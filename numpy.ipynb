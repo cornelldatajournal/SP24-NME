{
 "cells": [
  {
   "cell_type": "markdown",
   "id": "f8e3aa85",
   "metadata": {},
   "source": [
    "### NME 1 — Saturday, October 21st, 2023\n",
    "\n",
    "# NumPy skill drill\n",
    "\n",
    "The goal of this workbook is to practice the programming skills you'll need this semester. [NumPy](https://numpy.org/) is a commonly used Python package for working with data.\n",
    "\n",
    "_**Note: this notebook is largely based off David Mimno and Allison Koenecke's 'NumPy Skill Drill' exercise from INFO 2950, FA22.**_"
   ]
  },
  {
   "cell_type": "markdown",
   "id": "a9e394ac",
   "metadata": {},
   "source": [
    "## Table of Contents\n",
    "\n",
    "A. [Arrays](#A.-Arrays)\n",
    "\n",
    "B. [Saving and loading arrays](#B.-Saving/loading-arrays)\n",
    "\n",
    "C. [Indexing](#C.-Indexing)\n",
    "\n",
    "D. [Operating on arrays](#D.-Operating-on-arrays)\n",
    "\n",
    "E. [Avoiding for loops](#E.-Avoiding-for-loops)"
   ]
  },
  {
   "cell_type": "markdown",
   "id": "66430c0a",
   "metadata": {},
   "source": [
    "Whenever you use NumPy, you first need to import it with the following line of code.\n",
    "\n",
    "Run the following block of code by pressing the `ctrl` and `enter` keys simultaneously. This is the general keyboard shortcut for running a block of code in a notebook like this."
   ]
  },
  {
   "cell_type": "code",
   "execution_count": null,
   "id": "fa0c4dcf",
   "metadata": {},
   "outputs": [],
   "source": [
    "import numpy as np"
   ]
  },
  {
   "cell_type": "markdown",
   "id": "e55e781a",
   "metadata": {},
   "source": [
    "## A. Arrays"
   ]
  },
  {
   "cell_type": "markdown",
   "id": "9f252804",
   "metadata": {},
   "source": [
    "### Goal: Print an array.\n",
    "\n",
    "The basic datatype in NumPy is an *array*, also called an *ndarray*. You can think of an array as a list of numbers. A basic way to create an array is to pass a Python list to the [`np.array()` function](https://numpy.org/doc/stable/reference/generated/numpy.array.html).\n",
    "\n",
    "Python's `print()` function displays the value of a variable.\n"
   ]
  },
  {
   "cell_type": "markdown",
   "id": "ed23269c",
   "metadata": {},
   "source": [
    "<span style=\"color:blue\">**Exercise A1.**</span>\n",
    "\n",
    "**Input**: an array with integers in increasing order.\n",
    "\n",
    "```\n",
    "[0 1 2 3 4 5 6 7]\n",
    "```\n",
    " \n",
    "**Output**: Print the array.\n",
    "\n",
    "```\n",
    "[0 1 2 3 4 5 6 7]\n",
    "```\n"
   ]
  },
  {
   "cell_type": "code",
   "execution_count": null,
   "id": "9e9dc809",
   "metadata": {
    "scrolled": true
   },
   "outputs": [],
   "source": [
    "# Given code\n",
    "A = np.array([0, 1, 2, 3, 4, 5, 6, 7])\n",
    "\n",
    "# your code here\n"
   ]
  },
  {
   "cell_type": "markdown",
   "id": "0e5a41c8",
   "metadata": {},
   "source": [
    "----\n",
    "<span style=\"color:blue\">**Exercise A2.**</span>\n",
    "\n",
    "**Input**: a 1x8 array with integers in increasing order.\n",
    "\n",
    "```\n",
    "[[0 1 2 3 4 5 6 7]]\n",
    "```\n",
    " \n",
    "**Output**: Print the array.\n",
    "\n",
    "```\n",
    "[[0 1 2 3 4 5 6 7]]\n",
    "```\n"
   ]
  },
  {
   "cell_type": "code",
   "execution_count": null,
   "id": "c9e99fbe",
   "metadata": {},
   "outputs": [],
   "source": [
    "# Given code\n",
    "A = np.array([[0, 1, 2, 3, 4, 5, 6, 7]])\n",
    "\n",
    "# your code here\n"
   ]
  },
  {
   "cell_type": "markdown",
   "id": "e15dceca",
   "metadata": {},
   "source": [
    "----\n",
    "<span style=\"color:blue\">**Exercise A3.**</span>\n",
    "\n",
    "**Input**: an 8x1 array with integers in increasing order.\n",
    "\n",
    "```\n",
    "[[0]\n",
    " [1]\n",
    " [2]\n",
    " [3]\n",
    " [4]\n",
    " [5]\n",
    " [6]\n",
    " [7]]\n",
    "```\n",
    " \n",
    "**Output**: Print the array.\n",
    "\n",
    "```\n",
    "[[0]\n",
    " [1]\n",
    " [2]\n",
    " [3]\n",
    " [4]\n",
    " [5]\n",
    " [6]\n",
    " [7]]\n",
    "```\n"
   ]
  },
  {
   "cell_type": "code",
   "execution_count": null,
   "id": "0dbdb36e",
   "metadata": {
    "scrolled": true
   },
   "outputs": [],
   "source": [
    "# Given code\n",
    "A = np.array([[0],\n",
    "              [1],\n",
    "              [2],\n",
    "              [3],\n",
    "              [4],\n",
    "              [5],\n",
    "              [6],\n",
    "              [7]])\n",
    "\n",
    "# your code here\n"
   ]
  },
  {
   "cell_type": "markdown",
   "id": "3b4f7011",
   "metadata": {},
   "source": [
    "----\n",
    "### Goal: Access the number of dimensions of an array.\n",
    "\n",
    "Arrays have *axes*, also called *dimensions*. A Python list has one dimension; you can specify an element of a list with one index number. A matrix has two dimensions because in order to specify an element of a matrix, you need two numbers. The numbers specify the row and column.\n"
   ]
  },
  {
   "cell_type": "markdown",
   "id": "756dd7f3",
   "metadata": {},
   "source": [
    "<span style=\"color:blue\">**Exercise A4.**</span>\n",
    "\n",
    "**Input**: an array with one axis/dimension with integers in increasing order.\n",
    "\n",
    "```\n",
    "[0 1 2 3 4 5 6 7]\n",
    "```\n",
    "\n",
    "**Output**: Print the number of dimensions of the array using the array's [`.ndim` attribute](https://numpy.org/doc/stable/reference/generated/numpy.ndarray.ndim.html).\n",
    "\n",
    "```\n",
    "1\n",
    "```\n"
   ]
  },
  {
   "cell_type": "code",
   "execution_count": null,
   "id": "d31844f0",
   "metadata": {
    "scrolled": true
   },
   "outputs": [],
   "source": [
    "# Given code\n",
    "A = np.array([0, 1, 2, 3, 4, 5, 6, 7])\n",
    "\n",
    "# your code here\n"
   ]
  },
  {
   "cell_type": "markdown",
   "id": "e2c703fc",
   "metadata": {},
   "source": [
    "----\n",
    "<span style=\"color:blue\">**Exercise A5.**</span>\n",
    "\n",
    "**Input**: a 2d array with integers in increasing order.\n",
    "\n",
    "```\n",
    "[[0 1 2 3 4 5 6 7]]\n",
    "```\n",
    " \n",
    "**Output**: Print the number of dimensions of the array.\n",
    "\n",
    "```\n",
    "2\n",
    "```\n"
   ]
  },
  {
   "cell_type": "code",
   "execution_count": null,
   "id": "0ac2a011",
   "metadata": {},
   "outputs": [],
   "source": [
    "# Given code\n",
    "A = np.array([[0, 1, 2, 3, 4, 5, 6, 7]])\n",
    "\n",
    "# your code here\n"
   ]
  },
  {
   "cell_type": "markdown",
   "id": "ffe9f0c7",
   "metadata": {},
   "source": [
    "----\n",
    "<span style=\"color:blue\">**Exercise A6.**</span>\n",
    "\n",
    "**Input**: a 2d array with integers in increasing order.\n",
    "\n",
    "```\n",
    "[[0 1 2 3]\n",
    " [4 5 6 7]]\n",
    "```\n",
    " \n",
    "**Output**: Print the number of dimensions of the array.\n",
    "\n",
    "```\n",
    "2\n",
    "```\n"
   ]
  },
  {
   "cell_type": "code",
   "execution_count": null,
   "id": "2e1b9fab",
   "metadata": {
    "scrolled": false
   },
   "outputs": [],
   "source": [
    "# Given code\n",
    "A = np.array([[0, 1, 2, 3],\n",
    "              [4, 5, 6, 7]])\n",
    "\n",
    "# your code here\n"
   ]
  },
  {
   "cell_type": "markdown",
   "id": "31419233",
   "metadata": {},
   "source": [
    "----\n",
    "<span style=\"color:blue\">**Exercise A7.**</span>\n",
    "\n",
    "**Input**: None.\n",
    "\n",
    " \n",
    "**Output**: Use the [`np.array()` function](https://numpy.org/doc/stable/reference/generated/numpy.array.html#numpy.array) to create an array with three axes/dimensions. Print the number of dimensions of the array.\n",
    "\n",
    "```\n",
    "3\n",
    "```\n"
   ]
  },
  {
   "cell_type": "code",
   "execution_count": null,
   "id": "6778a480",
   "metadata": {
    "scrolled": true
   },
   "outputs": [],
   "source": [
    "# your code here\n"
   ]
  },
  {
   "cell_type": "markdown",
   "id": "31602f7a",
   "metadata": {},
   "source": [
    "----\n",
    "### Goal: Get the shape of an array.\n",
    "\n",
    "An array's *shape* is a tuple representing the size of each dimension of an array. For a 2d array, the elements of the tuple correspond to height and width.\n"
   ]
  },
  {
   "cell_type": "markdown",
   "id": "8c5f0b44",
   "metadata": {},
   "source": [
    "<span style=\"color:blue\">**Exercise A8.**</span>\n",
    "\n",
    "**Input**: an array with integers in increasing order.\n",
    "\n",
    "```\n",
    "[[ 0  1  2  3  4  5  6  7]\n",
    " [ 8  9 10 11 12 13 14 15]]\n",
    "```\n",
    " \n",
    "**Output**: Print the shape of the array using the array's [`.shape` attribute](https://numpy.org/doc/stable/reference/generated/numpy.shape.html).\n",
    "\n",
    "```\n",
    "(2, 8)\n",
    "```\n"
   ]
  },
  {
   "cell_type": "code",
   "execution_count": null,
   "id": "22875601",
   "metadata": {
    "scrolled": true
   },
   "outputs": [],
   "source": [
    "# Given code\n",
    "A = np.array([[ 0,  1,  2,  3,  4,  5,  6,  7],\n",
    "              [ 8,  9, 10, 11, 12, 13, 14, 15]])\n",
    "\n",
    "# your code here\n"
   ]
  },
  {
   "cell_type": "markdown",
   "id": "d570998e",
   "metadata": {},
   "source": [
    "<span style=\"color:blue\">**Exercise A9.**</span>\n",
    "\n",
    "**Input**: a 1d array with integers in increasing order.\n",
    "\n",
    "```\n",
    "[0 1 2 3 4 5 6 7]\n",
    "```\n",
    " \n",
    "**Output**: Print the shape of the array.\n",
    "\n",
    "```\n",
    "(8,)\n",
    "```\n"
   ]
  },
  {
   "cell_type": "code",
   "execution_count": null,
   "id": "1f68d7bb",
   "metadata": {},
   "outputs": [],
   "source": [
    "# Given code\n",
    "A = np.array([0, 1, 2, 3, 4, 5, 6, 7])\n",
    "\n",
    "# your code here\n"
   ]
  },
  {
   "cell_type": "markdown",
   "id": "c808cfe2",
   "metadata": {},
   "source": [
    "----\n",
    "<span style=\"color:blue\">**Exercise A10.**</span>\n",
    "\n",
    "**Input**: a 2d array with integers in increasing order.\n",
    "\n",
    "```\n",
    "[[0 1 2 3 4 5 6 7]]\n",
    "```\n",
    " \n",
    "**Output**: Print the shape of the array.\n",
    "\n",
    "```\n",
    "(1, 8)\n",
    "```\n"
   ]
  },
  {
   "cell_type": "code",
   "execution_count": null,
   "id": "a5de6590",
   "metadata": {},
   "outputs": [],
   "source": [
    "# Given code\n",
    "A = np.array([[0, 1, 2, 3, 4, 5, 6, 7]])\n",
    "\n",
    "# your code here\n"
   ]
  },
  {
   "cell_type": "markdown",
   "id": "74787a2c",
   "metadata": {},
   "source": [
    "----\n",
    "<span style=\"color:blue\">**Exercise A11.**</span>\n",
    "\n",
    "**Input**: a 2d array with integers in increasing order.\n",
    "\n",
    "```\n",
    "[[0]\n",
    " [1]\n",
    " [2]\n",
    " [3]\n",
    " [4]\n",
    " [5]\n",
    " [6]\n",
    " [7]]\n",
    "```\n",
    " \n",
    "**Output**: Print the shape of the array.\n",
    "\n",
    "```\n",
    "(8, 1)\n",
    "```\n"
   ]
  },
  {
   "cell_type": "code",
   "execution_count": null,
   "id": "c03f6b5a",
   "metadata": {},
   "outputs": [],
   "source": [
    "# Given code\n",
    "A = np.array([[0],\n",
    "              [1],\n",
    "              [2],\n",
    "              [3],\n",
    "              [4],\n",
    "              [5],\n",
    "              [6],\n",
    "              [7]])\n",
    "\n",
    "# your code here\n"
   ]
  },
  {
   "cell_type": "markdown",
   "id": "dfee917d",
   "metadata": {},
   "source": [
    "----\n",
    "<span style=\"color:blue\">**Exercise A12.**</span>\n",
    "\n",
    "**Input**: a 2d array with integers in increasing order.\n",
    "\n",
    "```\n",
    "[[0 1 2 3]\n",
    " [4 5 6 7]]\n",
    "```\n",
    " \n",
    "**Output**: Print the shape of the array.\n",
    "\n",
    "```\n",
    "(2, 4)\n",
    "```\n"
   ]
  },
  {
   "cell_type": "code",
   "execution_count": null,
   "id": "6d3b3952",
   "metadata": {},
   "outputs": [],
   "source": [
    "# Given code\n",
    "A = np.array([[0, 1, 2, 3],\n",
    "              [4, 5, 6, 7]])\n",
    "\n",
    "# your code here\n"
   ]
  },
  {
   "cell_type": "markdown",
   "id": "df16befc",
   "metadata": {},
   "source": [
    "----\n",
    "### Goal: Reshape an array.\n",
    "\n",
    "A NumPy array's [`.reshape()` method](https://numpy.org/doc/stable/reference/generated/numpy.ndarray.reshape.html#numpy.ndarray.reshape) takes the values in the array and rearranges them. The part that takes some getting used to is which values go in which new positions.\n",
    "\n",
    "The [`np.arange()` function](https://numpy.org/doc/stable/reference/generated/numpy.arange.html) creates arrays with integers in increasing order. For example, the array `[0 1 2 3 4 5 6 7]` from the previous exercises can also be generated by the line `np.arange(8)`.\n"
   ]
  },
  {
   "cell_type": "markdown",
   "id": "00ac4ecd",
   "metadata": {},
   "source": [
    "<span style=\"color:blue\">**Exercise A13.**</span>\n",
    "\n",
    "**Input**: an array with integers in increasing order.\n",
    "\n",
    "```\n",
    "[ 0  1  2  3  4  5  6  7  8  9 10 11 12 13 14 15]\n",
    "```\n",
    " \n",
    "**Output**: Create a new array with the same elements in two rows of equal size. Print the resulting array.\n",
    "\n",
    "```\n",
    "[[ 0  1  2  3  4  5  6  7]\n",
    " [ 8  9 10 11 12 13 14 15]]\n",
    "```\n"
   ]
  },
  {
   "cell_type": "code",
   "execution_count": null,
   "id": "583791a5",
   "metadata": {},
   "outputs": [],
   "source": [
    "# Given code\n",
    "A = np.arange(16)\n",
    "\n",
    "# your code here\n"
   ]
  },
  {
   "cell_type": "markdown",
   "id": "454617fe",
   "metadata": {},
   "source": [
    "----\n",
    "### Goal: Get the number of elements in an array."
   ]
  },
  {
   "cell_type": "markdown",
   "id": "a2b63e69",
   "metadata": {},
   "source": [
    "<span style=\"color:blue\">**Exercise A14.**</span>\n",
    "\n",
    "**Input**: Three arrays of different shapes with integers in increasing order.\n",
    "\n",
    "```\n",
    "A = [0 1 2 3 4 5 6 7]\n",
    "\n",
    "B = [[0 1 2 3 4 5 6 7]]\n",
    "\n",
    "C = [[0 1 2 3]\n",
    "     [4 5 6 7]]\n",
    "```\n",
    " \n",
    "**Output**: Use an array's [`.size` attribute](https://numpy.org/doc/stable/reference/generated/numpy.ndarray.size.html) to print the number of elements in each array.\n",
    "\n",
    "```\n",
    "8\n",
    "8\n",
    "8\n",
    "```\n"
   ]
  },
  {
   "cell_type": "code",
   "execution_count": null,
   "id": "67205717",
   "metadata": {},
   "outputs": [],
   "source": [
    "# Given code\n",
    "A = np.arange(8)\n",
    "B = np.arange(8).reshape(1, 8)\n",
    "C = np.arange(8).reshape(2, 4)\n",
    "\n",
    "# your code here\n"
   ]
  },
  {
   "cell_type": "markdown",
   "id": "cd4f1289",
   "metadata": {},
   "source": [
    "----\n",
    "### Goal: Get the Python type of NumPy arrays, and get the type of the elements held in a NumPy array.\n",
    "\n",
    "You can get the type of a variable in Python with the built-in `type()` function. NumPy arrays are a single type that can hold elements of another type. For example, you could have an array of integers or an array of strings."
   ]
  },
  {
   "cell_type": "markdown",
   "id": "4f1fd5b5",
   "metadata": {},
   "source": [
    "<span style=\"color:blue\">**Exercise A15.**</span>\n",
    "\n",
    "**Input**: a 2x4 array with integers in increasing order.\n",
    "\n",
    "```\n",
    "[[0 1 2 3]\n",
    " [4 5 6 7]]\n",
    "```\n",
    " \n",
    "**Output**: Print the Python type of the array by using Python's built-in `type()` function.\n",
    "\n",
    "```\n",
    "<class 'numpy.ndarray'>\n",
    "```\n"
   ]
  },
  {
   "cell_type": "code",
   "execution_count": null,
   "id": "7a5b8939",
   "metadata": {},
   "outputs": [],
   "source": [
    "# Given code\n",
    "A = np.arange(8).reshape((2, 4))\n",
    "\n",
    "# your code here\n"
   ]
  },
  {
   "cell_type": "markdown",
   "id": "64641550",
   "metadata": {},
   "source": [
    "----\n",
    "<span style=\"color:blue\">**Exercise A16.**</span>\n",
    "\n",
    "**Input**: a 2x4 array with integers in increasing order.\n",
    "\n",
    "```\n",
    "[[0 1 2 3]\n",
    " [4 5 6 7]]\n",
    "```\n",
    " \n",
    "**Output**: Print the NumPy array's [`dtype` attribute](https://numpy.org/doc/stable/reference/generated/numpy.ndarray.dtype.html) in order to see the type of elements that the array holds.\n",
    "\n",
    "```\n",
    "int64\n",
    "```\n"
   ]
  },
  {
   "cell_type": "code",
   "execution_count": null,
   "id": "f1eab6e2",
   "metadata": {},
   "outputs": [],
   "source": [
    "# Given code\n",
    "A = np.arange(8).reshape((2, 4))\n",
    "\n",
    "# your code here\n"
   ]
  },
  {
   "cell_type": "markdown",
   "id": "3d59f989",
   "metadata": {},
   "source": [
    "----\n",
    "<span style=\"color:blue\">**Exercise A17.**</span>\n",
    "\n",
    "**Input**: an array of strings.\n",
    "\n",
    "```\n",
    "['maple' 'london plane' 'beech' 'white oak']\n",
    "```\n",
    " \n",
    "**Output**: Print the Python type of the array.\n",
    "\n",
    "```\n",
    "<class 'numpy.ndarray'>\n",
    "```\n"
   ]
  },
  {
   "cell_type": "code",
   "execution_count": null,
   "id": "d43ce9c3",
   "metadata": {},
   "outputs": [],
   "source": [
    "# Given code\n",
    "A = np.array(['maple', 'london plane', 'beech', 'white oak'])\n",
    "\n",
    "# your code here\n"
   ]
  },
  {
   "cell_type": "markdown",
   "id": "5902e26e",
   "metadata": {},
   "source": [
    "----\n",
    "<span style=\"color:blue\">**Exercise A18.**</span>\n",
    "\n",
    "**Input**: an array of strings.\n",
    "\n",
    "```\n",
    "['maple' 'london plane' 'beech' 'white oak']\n",
    "```\n",
    " \n",
    "**Output**: Print the NumPy array's [`dtype` attribute](https://numpy.org/doc/stable/reference/generated/numpy.ndarray.dtype.html).\n",
    "\n",
    "```\n",
    "<U12\n",
    "```\n",
    "\n",
    "(This is a string datatype, as described [here](https://numpy.org/doc/stable/reference/arrays.dtypes.html))\n"
   ]
  },
  {
   "cell_type": "code",
   "execution_count": null,
   "id": "3e95cecc",
   "metadata": {},
   "outputs": [],
   "source": [
    "# Given code\n",
    "A = np.array(['maple', 'london plane', 'beech', 'white oak'])\n",
    "\n",
    "# your code here\n"
   ]
  },
  {
   "cell_type": "markdown",
   "id": "6bc1d571",
   "metadata": {},
   "source": [
    "----\n",
    "### Goal: Create an array. Understand the difference between `np.empty()` and `np.zeros()`.\n",
    "\n",
    "The [`np.empty()` function](https://numpy.org/doc/stable/reference/generated/numpy.empty.html) creates an array with no guarantees on the values of elements inside it. If you want to use an array created in this way, you need to explicitly set the values.\n",
    "\n",
    "The [`np.zeros()` function](https://numpy.org/doc/stable/reference/generated/numpy.zeros.html) creates an array where every entry is 0. This is useful when you want to immediately use the values in the array, or if the default value of an entry should be 0."
   ]
  },
  {
   "cell_type": "markdown",
   "id": "17547038",
   "metadata": {},
   "source": [
    "<span style=\"color:blue\">**Exercise A19.**</span>\n",
    "\n",
    "**Input**: None.\n",
    "\n",
    " \n",
    "**Output**: Create a 4x4 array using the [`np.empty()` function](https://numpy.org/doc/stable/reference/generated/numpy.empty.html). Print the array.\n",
    "\n",
    "*Note: This is just a representative output. Due to the nature of `np.empty()`, you will have different output. That is expected.* \n",
    "\n",
    "```\n",
    "[[0.0e+000 4.9e-324 9.9e-324 1.5e-323]\n",
    " [2.0e-323 2.5e-323 3.0e-323 3.5e-323]\n",
    " [4.0e-323 4.4e-323 4.9e-323 5.4e-323]\n",
    " [5.9e-323 6.4e-323 6.9e-323 7.4e-323]]\n",
    "```\n",
    "\n",
    "\n"
   ]
  },
  {
   "cell_type": "code",
   "execution_count": null,
   "id": "b550ae65",
   "metadata": {
    "scrolled": true
   },
   "outputs": [],
   "source": [
    "# your code here\n",
    "\n"
   ]
  },
  {
   "cell_type": "markdown",
   "id": "648a4029",
   "metadata": {},
   "source": [
    "<span style=\"color:blue\">**Exercise A20.**</span>\n",
    "\n",
    "**Input**: None.\n",
    "\n",
    " \n",
    "**Output**: Create a 4x4 array using the [`np.zeros()` function](https://numpy.org/doc/stable/reference/generated/numpy.zeros.html). Print the array.\n",
    "\n",
    "```\n",
    "[[0. 0. 0. 0.]\n",
    " [0. 0. 0. 0.]\n",
    " [0. 0. 0. 0.]\n",
    " [0. 0. 0. 0.]]\n",
    "```\n",
    "\n",
    "\n"
   ]
  },
  {
   "cell_type": "code",
   "execution_count": null,
   "id": "fb336b47",
   "metadata": {
    "scrolled": true
   },
   "outputs": [],
   "source": [
    "# your code here\n"
   ]
  },
  {
   "cell_type": "markdown",
   "id": "f79e0295",
   "metadata": {},
   "source": [
    "<span style=\"color:blue\">**Exercise A21.**</span>\n",
    "\n",
    "Evenly spaced numbers are often useful for plotting.\n",
    "\n",
    "**Input**: None.\n",
    "\n",
    " \n",
    "**Output**: Create a 1d array of 10 equally spaced numbers between 0 and 1 (inclusive) using the [`np.linpace()` function](https://numpy.org/doc/stable/reference/generated/numpy.linspace.html). Print the array.\n",
    "\n",
    "```\n",
    "[0.         0.11111111 0.22222222 0.33333333 0.44444444 0.55555556\n",
    " 0.66666667 0.77777778 0.88888889 1.        ]\n",
    "```\n"
   ]
  },
  {
   "cell_type": "code",
   "execution_count": null,
   "id": "938cc214",
   "metadata": {
    "scrolled": false
   },
   "outputs": [],
   "source": [
    "# your code here\n"
   ]
  },
  {
   "cell_type": "markdown",
   "id": "c4e33e6c",
   "metadata": {},
   "source": [
    "<span style=\"color:blue\">**Exercise A22.**</span>\n",
    "\n",
    "**Input**: a Python list containing six integers.\n",
    "\n",
    "```\n",
    "[10, 8, 6, 4, 2, 0]\n",
    "```\n",
    " \n",
    "**Output**: Create a NumPy array from the list using the [`np.array()` function](https://numpy.org/doc/stable/reference/generated/numpy.array.html). Reshape the array to be 3x2. Print the array.\n",
    "\n",
    "```\n",
    "[[10  8]\n",
    " [ 6  4]\n",
    " [ 2  0]]\n",
    "```\n"
   ]
  },
  {
   "cell_type": "code",
   "execution_count": null,
   "id": "78e40cb3",
   "metadata": {
    "scrolled": false
   },
   "outputs": [],
   "source": [
    "l = [10, 8, 6, 4, 2, 0]\n",
    "\n",
    "# your code here\n"
   ]
  },
  {
   "cell_type": "markdown",
   "id": "25bc794f",
   "metadata": {},
   "source": [
    "<span style=\"color:blue\">**Exercise A23.**</span>\n",
    "\n",
    "The `np.array()` constructor accepts lists of lists as arguments.\n",
    "For example, the line `np.array([[2, 3], [4, 5]])` yields the following 2d array:\n",
    "\n",
    "```\n",
    "[[2 3]\n",
    " [4 5]]\n",
    "```\n",
    "\n",
    "The first list becomes the first row, and the second becomes the second row.\n",
    "\n",
    "**Input**: None.\n",
    "\n",
    "**Output**: Create a NumPy array from a list of lists that looks like the following array. Print the array.\n",
    "\n",
    "```\n",
    "[[5 6]\n",
    " [7 8]]\n",
    "```\n"
   ]
  },
  {
   "cell_type": "code",
   "execution_count": null,
   "id": "a59dd7df",
   "metadata": {
    "scrolled": false
   },
   "outputs": [],
   "source": [
    "# your code here\n"
   ]
  },
  {
   "cell_type": "markdown",
   "id": "ebd49a46",
   "metadata": {},
   "source": [
    "<span style=\"color:blue\">**Exercise A24.**</span>\n",
    "\n",
    "**Input**: a Python list containing six integers.\n",
    "\n",
    "```\n",
    "list1 = [10, 8, 6, 4, 2, 0]\n",
    "list2 = [11, 9, 7, 5, 3, 1]\n",
    "```\n",
    " \n",
    "**Output**: Create a 2x6 NumPy array from the lists, where the elements of `list1` are in the first row and the elements of `list2` are in the second row. Print the array.\n",
    "\n",
    "```\n",
    "[[10  8  6  4  2  0]\n",
    " [11  9  7  5  3  1]]\n",
    "```\n"
   ]
  },
  {
   "cell_type": "code",
   "execution_count": null,
   "id": "49c847b6",
   "metadata": {
    "scrolled": false
   },
   "outputs": [],
   "source": [
    "list1 = [10, 8, 6, 4, 2, 0]\n",
    "list2 = [11, 9, 7, 5, 3, 1]\n",
    "\n",
    "# your code here\n"
   ]
  },
  {
   "cell_type": "markdown",
   "id": "c3b73dd5",
   "metadata": {},
   "source": [
    "## B. Saving/loading arrays"
   ]
  },
  {
   "cell_type": "markdown",
   "id": "19b9690e",
   "metadata": {},
   "source": [
    "### Goal: Load a NumPy array from a file."
   ]
  },
  {
   "cell_type": "markdown",
   "id": "41ac2379",
   "metadata": {},
   "source": [
    "<span style=\"color:blue\">**Exercise B1.**</span>\n",
    "\n",
    "**Input**: No code. A file named `exercise-load.npy` is in this directory.\n",
    " \n",
    "**Output**: Load the array in the file `exercise-load.npy` file using the [`np.load()` function](https://numpy.org/doc/stable/reference/generated/numpy.load.html). Print the resulting array.\n",
    "\n",
    "```\n",
    "[[0 3 6]\n",
    " [1 4 7]\n",
    " [2 5 8]]\n",
    "```\n"
   ]
  },
  {
   "cell_type": "code",
   "execution_count": null,
   "id": "57c3cc15",
   "metadata": {},
   "outputs": [],
   "source": [
    "# your code here\n"
   ]
  },
  {
   "cell_type": "markdown",
   "id": "5d2cb3cb",
   "metadata": {},
   "source": [
    "### Goal: Save a NumPy array to a file."
   ]
  },
  {
   "cell_type": "markdown",
   "id": "ec69be1f",
   "metadata": {},
   "source": [
    "<span style=\"color:blue\">**Exercise B2.**</span>\n",
    "\n",
    "**Input**: a 6x6 array with integers in increasing order.\n",
    "\n",
    "```\n",
    "[[ 0  1  2  3  4  5]\n",
    " [ 6  7  8  9 10 11]\n",
    " [12 13 14 15 16 17]\n",
    " [18 19 20 21 22 23]\n",
    " [24 25 26 27 28 29]\n",
    " [30 31 32 33 34 35]]\n",
    "```\n",
    " \n",
    "**Output**: Save the array in a `.npy` file using the [`np.save()` function](https://numpy.org/doc/stable/reference/generated/numpy.save.html). Load the file you created using `np.load()`. Print the resulting array.\n",
    "\n",
    "```\n",
    "[[ 0  1  2  3  4  5]\n",
    " [ 6  7  8  9 10 11]\n",
    " [12 13 14 15 16 17]\n",
    " [18 19 20 21 22 23]\n",
    " [24 25 26 27 28 29]\n",
    " [30 31 32 33 34 35]]\n",
    "```\n"
   ]
  },
  {
   "cell_type": "code",
   "execution_count": null,
   "id": "60821258",
   "metadata": {},
   "outputs": [],
   "source": [
    "# Given code\n",
    "A = np.arange(36).reshape((6, 6))\n",
    "\n",
    "# your code here\n"
   ]
  },
  {
   "cell_type": "markdown",
   "id": "be77e93f",
   "metadata": {},
   "source": [
    "## C. Indexing"
   ]
  },
  {
   "cell_type": "markdown",
   "id": "16654c62",
   "metadata": {},
   "source": [
    "### Goal: Get the value of a single entry in an array.\n",
    "\n",
    "\n",
    "In order to get an element from an array, you *index* the array with the element's position along each dimension/axis. The positions are numbered starting at 0.\n",
    "\n",
    "You can use square bracket syntax like with a Python list. Different dimensions are separated with commas.\n",
    "\n",
    "You might find the [NumPy reference for indexing](https://numpy.org/doc/stable/user/basics.indexing.html#basics-indexing) helpful."
   ]
  },
  {
   "cell_type": "markdown",
   "id": "26807eb4",
   "metadata": {},
   "source": [
    "<span style=\"color:blue\">**Exercise C1.**</span>\n",
    "\n",
    "**Input**: a 3x8 array with integers in increasing order.\n",
    "\n",
    "```\n",
    "[[ 0  1  2  3  4  5  6  7]\n",
    " [ 8  9 10 11 12 13 14 15]\n",
    " [16 17 18 19 20 21 22 23]]\n",
    "```\n",
    " \n",
    "**Output**: Print the top-left entry in the array, which is the entry in the first row, first column.\n",
    "\n",
    "```\n",
    "0\n",
    "```\n"
   ]
  },
  {
   "cell_type": "code",
   "execution_count": null,
   "id": "e000ed97",
   "metadata": {},
   "outputs": [],
   "source": [
    "# Given code\n",
    "A = np.arange(24).reshape((3, 8))\n",
    "\n",
    "# your code here\n"
   ]
  },
  {
   "cell_type": "markdown",
   "id": "8d7b9bd0",
   "metadata": {},
   "source": [
    "----\n",
    "<span style=\"color:blue\">**Exercise C2.**</span>\n",
    "\n",
    "**Input**: a 3x8 array with integers in increasing order.\n",
    "\n",
    "```\n",
    "[[ 0  1  2  3  4  5  6  7]\n",
    " [ 8  9 10 11 12 13 14 15]\n",
    " [16 17 18 19 20 21 22 23]]\n",
    "```\n",
    " \n",
    "**Output**: Print the entry in the second row, third column.\n",
    "\n",
    "```\n",
    "10\n",
    "```\n"
   ]
  },
  {
   "cell_type": "code",
   "execution_count": null,
   "id": "f304f0e7",
   "metadata": {},
   "outputs": [],
   "source": [
    "# Given code\n",
    "A = np.arange(24).reshape((3, 8))\n",
    "\n",
    "# your code here\n"
   ]
  },
  {
   "cell_type": "markdown",
   "id": "87d112d8",
   "metadata": {},
   "source": [
    "----\n",
    "<span style=\"color:blue\">**Exercise C3.**</span>\n",
    "\n",
    "**Input**: a 3x8 array with integers in increasing order.\n",
    "\n",
    "```\n",
    "[[ 0  1  2  3  4  5  6  7]\n",
    " [ 8  9 10 11 12 13 14 15]\n",
    " [16 17 18 19 20 21 22 23]]\n",
    "```\n",
    " \n",
    "**Output**: Print the entry in the third row, second column.\n",
    "\n",
    "```\n",
    "17\n",
    "```\n"
   ]
  },
  {
   "cell_type": "code",
   "execution_count": null,
   "id": "6117123a",
   "metadata": {},
   "outputs": [],
   "source": [
    "# Given code\n",
    "A = np.arange(24).reshape((3, 8))\n",
    "\n",
    "# your code here\n"
   ]
  },
  {
   "cell_type": "markdown",
   "id": "ae69c4ac",
   "metadata": {},
   "source": [
    "----\n",
    "<span style=\"color:blue\">**Exercise C4.**</span>\n",
    "\n",
    "**Input**: a 3x8 array with integers in increasing order.\n",
    "\n",
    "```\n",
    "[[ 0  1  2  3  4  5  6  7]\n",
    " [ 8  9 10 11 12 13 14 15]\n",
    " [16 17 18 19 20 21 22 23]]\n",
    "```\n",
    " \n",
    "**Output**: Print the entry `13` using indexing.\n",
    "\n",
    "```\n",
    "13\n",
    "```\n"
   ]
  },
  {
   "cell_type": "code",
   "execution_count": null,
   "id": "26d048d7",
   "metadata": {},
   "outputs": [],
   "source": [
    "# Given code\n",
    "A = np.arange(24).reshape((3, 8))\n",
    "\n",
    "# your code here\n"
   ]
  },
  {
   "cell_type": "markdown",
   "id": "84102eb0",
   "metadata": {},
   "source": [
    "--------\n",
    "<span style=\"color:blue\">**Exercise C5.**</span>\n",
    "\n",
    "**Input**: a 1d array of integers.\n",
    "\n",
    "```\n",
    "A = [0 1 2 3 4 5 6 7 8 9]\n",
    "```\n",
    " \n",
    "**Output**: Use negative indexing to print the last element of the array.\n",
    "\n",
    "```\n",
    "9\n",
    "```\n"
   ]
  },
  {
   "cell_type": "code",
   "execution_count": null,
   "id": "9a6782f2",
   "metadata": {
    "scrolled": true
   },
   "outputs": [],
   "source": [
    "# Given code\n",
    "A = np.arange(10)\n",
    "print(A)\n",
    "\n",
    "# your code here\n"
   ]
  },
  {
   "cell_type": "markdown",
   "id": "0d5f201a",
   "metadata": {},
   "source": [
    "### Goal: Set the value of a single entry in an array.\n",
    "\n",
    "You can set the value of an entry in an array using the same bracket syntax used for indexing.\n",
    "For example, `A[i, j] = 1` sets the entry in row `i`, column `j` to 1."
   ]
  },
  {
   "cell_type": "markdown",
   "id": "6686d948",
   "metadata": {},
   "source": [
    "<span style=\"color:blue\">**Exercise C6.**</span>\n",
    "\n",
    "**Input**: a 3x8 array with integers in increasing order.\n",
    "\n",
    "```\n",
    "[[ 0  1  2  3  4  5  6  7]\n",
    " [ 8  9 10 11 12 13 14 15]\n",
    " [16 17 18 19 20 21 22 23]]\n",
    "```\n",
    " \n",
    "**Output**: Set the entry in the second row, third column to 100. Print the array.\n",
    "\n",
    "```\n",
    "[[  0   1   2   3   4   5   6   7]\n",
    " [  8   9 100  11  12  13  14  15]\n",
    " [ 16  17  18  19  20  21  22  23]]\n",
    "```\n"
   ]
  },
  {
   "cell_type": "code",
   "execution_count": null,
   "id": "532dc256",
   "metadata": {},
   "outputs": [],
   "source": [
    "# Given code\n",
    "A = np.arange(24).reshape((3, 8))\n",
    "\n",
    "# your code here\n"
   ]
  },
  {
   "cell_type": "markdown",
   "id": "757fabdc",
   "metadata": {},
   "source": [
    "----\n",
    "### Goal: Get and set the value of an entire row or column of a 2D array.\n",
    "\n",
    "*Slicing* allows you to access multiple elements of an array at the same time. A slice is defined using a colon. For example:\n",
    "- `A[:, 1]` prints all of the entries in column 1 of `A`.\n",
    "- `A[0, :]` prints all of the entries in row 0 of `A`.\n",
    "- `A[:, 1:3]` prints all of the entries in columns 1 (inclusive) to 3 (not inclusive) of `A` (i.e. columns 1 and 2).\n",
    "\n",
    "Syntax is described [here](https://numpy.org/doc/stable/user/basics.indexing.html#slicing-and-striding)."
   ]
  },
  {
   "cell_type": "markdown",
   "id": "7f1cb2d3",
   "metadata": {},
   "source": [
    "<span style=\"color:blue\">**Exercise C7.**</span>\n",
    "\n",
    "**Input**: a 3x8 array with integers in increasing order.\n",
    "\n",
    "```\n",
    "[[ 0  1  2  3  4  5  6  7]\n",
    " [ 8  9 10 11 12 13 14 15]\n",
    " [16 17 18 19 20 21 22 23]]\n",
    "```\n",
    " \n",
    "**Output**: Print all of the entries in the fifth column.\n",
    "\n",
    "```\n",
    "[ 4 12 20]\n",
    "```\n"
   ]
  },
  {
   "cell_type": "code",
   "execution_count": null,
   "id": "58d9bec4",
   "metadata": {},
   "outputs": [],
   "source": [
    "# Given code\n",
    "A = np.arange(24).reshape((3, 8))\n",
    "\n",
    "# your code here\n"
   ]
  },
  {
   "cell_type": "markdown",
   "id": "25f5fec9",
   "metadata": {},
   "source": [
    "--------\n",
    "<span style=\"color:blue\">**Exercise C8.**</span>\n",
    "\n",
    "**Input**: a 3x8 array with integers in increasing order.\n",
    "\n",
    "```\n",
    "[[ 0  1  2  3  4  5  6  7]\n",
    " [ 8  9 10 11 12 13 14 15]\n",
    " [16 17 18 19 20 21 22 23]]\n",
    "```\n",
    " \n",
    "**Output**: Print all of the entries in the first row.\n",
    "\n",
    "```\n",
    "[0 1 2 3 4 5 6 7]\n",
    "```\n"
   ]
  },
  {
   "cell_type": "code",
   "execution_count": null,
   "id": "6643d757",
   "metadata": {
    "scrolled": false
   },
   "outputs": [],
   "source": [
    "# Given code\n",
    "A = np.arange(24).reshape((3, 8))\n",
    "\n",
    "# your code here\n"
   ]
  },
  {
   "cell_type": "markdown",
   "id": "4e057e76",
   "metadata": {},
   "source": [
    "--------\n",
    "<span style=\"color:blue\">**Exercise C9.**</span>\n",
    "\n",
    "**Input**: a 3x8 array with integers in increasing order.\n",
    "\n",
    "```\n",
    "[[ 0  1  2  3  4  5  6  7]\n",
    " [ 8  9 10 11 12 13 14 15]\n",
    " [16 17 18 19 20 21 22 23]]\n",
    "```\n",
    " \n",
    "**Output**: Set all of the entries in the bottom row to 1. Print the array.\n",
    "\n",
    "```\n",
    "[[ 0  1  2  3  4  5  6  7]\n",
    " [ 8  9 10 11 12 13 14 15]\n",
    " [ 1  1  1  1  1  1  1  1]]\n",
    "```\n"
   ]
  },
  {
   "cell_type": "code",
   "execution_count": null,
   "id": "f5b03c86",
   "metadata": {
    "scrolled": true
   },
   "outputs": [],
   "source": [
    "# Given code\n",
    "A = np.arange(24).reshape((3, 8))\n",
    "\n",
    "# your code here\n"
   ]
  },
  {
   "cell_type": "markdown",
   "id": "8f17e3ee",
   "metadata": {},
   "source": [
    "----\n",
    "### Goal: use slicing to access parts of an array \n"
   ]
  },
  {
   "cell_type": "markdown",
   "id": "465b23e9",
   "metadata": {},
   "source": [
    "\n",
    "<span style=\"color:blue\">**Exercise C10.**</span>\n",
    "\n",
    "**Input**: a 3x8 array with integers in increasing order.\n",
    "\n",
    "```\n",
    "[[ 0  1  2  3  4  5  6  7]\n",
    " [ 8  9 10 11 12 13 14 15]\n",
    " [16 17 18 19 20 21 22 23]]\n",
    "```\n",
    " \n",
    "**Output**: Create a 2x2 array that contains the four entries that are a) in the first two rows and b) in the second two columns. Print this array.\n",
    "\n",
    "```\n",
    "[[ 1  2]\n",
    " [ 9 10]]\n",
    "```\n"
   ]
  },
  {
   "cell_type": "code",
   "execution_count": null,
   "id": "91df2122",
   "metadata": {
    "scrolled": true
   },
   "outputs": [],
   "source": [
    "# Given code\n",
    "A = np.arange(24).reshape((3, 8))\n",
    "\n",
    "# your code here\n"
   ]
  },
  {
   "cell_type": "markdown",
   "id": "081e9998",
   "metadata": {},
   "source": [
    "--------\n",
    "<span style=\"color:blue\">**Exercise C11.**</span>\n",
    "\n",
    "**Input**: a 1d array of integers.\n",
    "\n",
    "```\n",
    "A = [ 0  1  2  3  4  5  6  7  8  9 10 11 12 13 14 15 16 17 18 19 20 21 22 23\n",
    "     24 25 26 27 28 29 30 31 32 33 34 35 36 37 38 39 40 41 42 43 44 45 46 47\n",
    "     48 49]\n",
    "```\n",
    " \n",
    "**Output**: Use slicing to print the first 20 elements of the array.\n",
    "\n",
    "```\n",
    "[ 0  1  2  3  4  5  6  7  8  9 10 11 12 13 14 15 16 17 18 19]\n",
    "```\n"
   ]
  },
  {
   "cell_type": "code",
   "execution_count": null,
   "id": "b9574aa5",
   "metadata": {
    "scrolled": true
   },
   "outputs": [],
   "source": [
    "# Given code\n",
    "A = np.arange(50)\n",
    "\n",
    "# your code here\n"
   ]
  },
  {
   "cell_type": "markdown",
   "id": "d38041c2",
   "metadata": {},
   "source": [
    "--------\n",
    "<span style=\"color:blue\">**Exercise C12.**</span>\n",
    "\n",
    "**Input**: a 1d array of integers.\n",
    "\n",
    "```\n",
    "A = [ 0  1  2  3  4  5  6  7  8  9 10 11 12 13 14 15 16 17 18 19 20 21 22 23\n",
    "     24 25 26 27 28 29 30 31 32 33 34 35 36 37 38 39 40 41 42 43 44 45 46 47\n",
    "     48 49]\n",
    "```\n",
    " \n",
    "**Output**: Use slicing to print the thirty elements of the array from index 10 to index 39 (inclusive).\n",
    "\n",
    "```\n",
    "[10 11 12 13 14 15 16 17 18 19 20 21 22 23 24 25 26 27 28 29 30 31 32 33\n",
    " 34 35 36 37 38 39]\n",
    "```\n"
   ]
  },
  {
   "cell_type": "code",
   "execution_count": null,
   "id": "de682fab",
   "metadata": {
    "scrolled": true
   },
   "outputs": [],
   "source": [
    "# Given code\n",
    "A = np.arange(50)\n",
    "\n",
    "# your code here\n"
   ]
  },
  {
   "cell_type": "markdown",
   "id": "360c444a",
   "metadata": {},
   "source": [
    "--------\n",
    "<span style=\"color:blue\">**Exercise C13.**</span>\n",
    "\n",
    "**Input**: a 1d array of integers.\n",
    "\n",
    "```\n",
    "A = [ 0  1  2  3  4  5  6  7  8  9 10 11 12 13 14 15 16 17 18 19 20 21 22 23\n",
    "     24 25 26 27 28 29 30 31 32 33 34 35 36 37 38 39 40 41 42 43 44 45 46 47\n",
    "     48 49]\n",
    "```\n",
    " \n",
    "**Output**: Use negative indexing and slicing to print the last ten elements of the array.\n",
    "\n",
    "```\n",
    "[40 41 42 43 44 45 46 47 48 49]\n",
    "```\n"
   ]
  },
  {
   "cell_type": "code",
   "execution_count": null,
   "id": "2cf73569",
   "metadata": {
    "scrolled": true
   },
   "outputs": [],
   "source": [
    "# Given code\n",
    "A = np.arange(50)\n",
    "\n",
    "# your code here\n"
   ]
  },
  {
   "cell_type": "markdown",
   "id": "bf61a424",
   "metadata": {},
   "source": [
    "\n",
    "<span style=\"color:blue\">**Exercise C14.**</span>\n",
    "\n",
    "**Input**: a 3x8 array with integers in increasing order.\n",
    "\n",
    "```\n",
    "[[ 0  1  2  3  4  5  6  7]\n",
    " [ 8  9 10 11 12 13 14 15]\n",
    " [16 17 18 19 20 21 22 23]]\n",
    "```\n",
    " \n",
    "**Output**: Use slicing and negative indexing to print the last row of the array.\n",
    "\n",
    "```\n",
    "[16 17 18 19 20 21 22 23]\n",
    "```\n"
   ]
  },
  {
   "cell_type": "code",
   "execution_count": null,
   "id": "8f8efeeb",
   "metadata": {
    "scrolled": true
   },
   "outputs": [],
   "source": [
    "# Given code\n",
    "A = np.arange(24).reshape((3, 8))\n",
    "\n",
    "# your code here\n"
   ]
  },
  {
   "cell_type": "markdown",
   "id": "5c09c724",
   "metadata": {},
   "source": [
    "---\n",
    "**Goal: Use slicing to print a subset of a large array.**\n",
    "\n",
    "Sometimes using the built-in Python `print()` function doesn't print all the values of a large array."
   ]
  },
  {
   "cell_type": "markdown",
   "id": "35caa582",
   "metadata": {},
   "source": [
    "<span style=\"color:blue\">**Exercise C15.**</span>\n",
    "\n",
    "**Input**: a 100x100 array with integers in increasing order.\n",
    "\n",
    "```\n",
    "[[   0    1    2 ...   97   98   99]\n",
    " [ 100  101  102 ...  197  198  199]\n",
    " [ 200  201  202 ...  297  298  299]\n",
    " ...\n",
    " [9700 9701 9702 ... 9797 9798 9799]\n",
    " [9800 9801 9802 ... 9897 9898 9899]\n",
    " [9900 9901 9902 ... 9997 9998 9999]]\n",
    "```\n",
    " \n",
    "**Output**: Use slicing to print the full tenth row of the array.\n",
    "\n",
    "```\n",
    "[1000 1001 1002 1003 1004 1005 1006 1007 1008 1009 1010 1011 1012 1013\n",
    " 1014 1015 1016 1017 1018 1019 1020 1021 1022 1023 1024 1025 1026 1027\n",
    " 1028 1029 1030 1031 1032 1033 1034 1035 1036 1037 1038 1039 1040 1041\n",
    " 1042 1043 1044 1045 1046 1047 1048 1049 1050 1051 1052 1053 1054 1055\n",
    " 1056 1057 1058 1059 1060 1061 1062 1063 1064 1065 1066 1067 1068 1069\n",
    " 1070 1071 1072 1073 1074 1075 1076 1077 1078 1079 1080 1081 1082 1083\n",
    " 1084 1085 1086 1087 1088 1089 1090 1091 1092 1093 1094 1095 1096 1097\n",
    " 1098 1099]\n",
    "```\n"
   ]
  },
  {
   "cell_type": "code",
   "execution_count": null,
   "id": "e96a408a",
   "metadata": {},
   "outputs": [],
   "source": [
    "# Given code\n",
    "A = np.arange(10000).reshape((100,100))\n",
    "\n",
    "# your code here\n"
   ]
  },
  {
   "cell_type": "markdown",
   "id": "ac8aa630",
   "metadata": {},
   "source": [
    "----\n",
    "### Goal: use boolean indexing to access specific elements \n",
    "\n",
    "*Boolean indexing*, also called *logical indexing*, allows you to select elements of an array that meet certain criteria. There is a general pattern of starting with an arry, creating a boolean array where `True` corresponds to elements that satisfy a predicate, and then passing this boolean array as an index back to the original array to select those elements.\n",
    "\n",
    "The NumPy indexing reference contains a [section on boolean indexing](https://numpy.org/doc/stable/user/basics.indexing.html#boolean-array-indexing)."
   ]
  },
  {
   "cell_type": "markdown",
   "id": "0fd82077",
   "metadata": {},
   "source": [
    "\n",
    "<span style=\"color:blue\">**Exercise C16.**</span>\n",
    "\n",
    "**Input**: a 6x6 array with integers in increasing order.\n",
    "\n",
    "```\n",
    "A = [[ 0  1  2  3  4  5]\n",
    "     [ 6  7  8  9 10 11]\n",
    "     [12 13 14 15 16 17]\n",
    "     [18 19 20 21 22 23]\n",
    "     [24 25 26 27 28 29]\n",
    "     [30 31 32 33 34 35]]\n",
    "```\n",
    " \n",
    "**Output**: Create an 8x8 array called `B` which contains `True` if the corresponding entry in `A` is even and `False` otherwise. More concretely: a) `B[i, j] = True` if the integer in `A[i, j]` is even, and b) `B[i, j] = False` if the integer in `A[i, j]` is odd. Print `B` once you have created it. \n",
    "```\n",
    "[[ True False  True False  True False]\n",
    " [ True False  True False  True False]\n",
    " [ True False  True False  True False]\n",
    " [ True False  True False  True False]\n",
    " [ True False  True False  True False]\n",
    " [ True False  True False  True False]]\n",
    "```\n",
    "\n",
    "*Hint:* the modulo operator in Python yields the remainder when dividing. For example, `4 % 2` yields 0 because 4 is even, and `5 % 2` yields 1 because 5 is odd. The expression `4 % 2 == 0` would therefore yield `True`, while `5 % 2 == 0` would yield `False`.\n"
   ]
  },
  {
   "cell_type": "code",
   "execution_count": null,
   "id": "4d2e966f",
   "metadata": {
    "scrolled": true
   },
   "outputs": [],
   "source": [
    "# Given code\n",
    "A = np.arange(36).reshape((6, 6))\n",
    "\n",
    "# your code here\n"
   ]
  },
  {
   "cell_type": "markdown",
   "id": "71d3c9a8",
   "metadata": {},
   "source": [
    "--------\n",
    "<span style=\"color:blue\">**Exercise C17.**</span>\n",
    "\n",
    "**Input**: a 6x6 array with integers in increasing order.\n",
    "\n",
    "```\n",
    "[[ 0  1  2  3  4  5]\n",
    " [ 6  7  8  9 10 11]\n",
    " [12 13 14 15 16 17]\n",
    " [18 19 20 21 22 23]\n",
    " [24 25 26 27 28 29]\n",
    " [30 31 32 33 34 35]]\n",
    "```\n",
    " \n",
    "**Output**: Print all the even entries of the array using one line of logical indexing.\n",
    "\n",
    "```\n",
    "[ 0  2  4  6  8 10 12 14 16 18 20 22 24 26 28 30 32 34]\n",
    "```\n"
   ]
  },
  {
   "cell_type": "code",
   "execution_count": null,
   "id": "22dcc955",
   "metadata": {
    "scrolled": true
   },
   "outputs": [],
   "source": [
    "# Given code\n",
    "A = np.arange(36).reshape((6, 6))\n",
    "\n",
    "# your code here\n"
   ]
  },
  {
   "cell_type": "markdown",
   "id": "faa4acc8",
   "metadata": {},
   "source": [
    "--------\n",
    "<span style=\"color:blue\">**Exercise C18.**</span>\n",
    "\n",
    "**Input**: a 6x6 array with integers in increasing order.\n",
    "\n",
    "```\n",
    "[[ 0  1  2  3  4  5]\n",
    " [ 6  7  8  9 10 11]\n",
    " [12 13 14 15 16 17]\n",
    " [18 19 20 21 22 23]\n",
    " [24 25 26 27 28 29]\n",
    " [30 31 32 33 34 35]]\n",
    "```\n",
    " \n",
    "**Output**: Set all the odd entries of the array to 1 using one line of logical indexing. Print the resulting array.\n",
    "\n",
    "```\n",
    "[[ 0  1  2  1  4  1]\n",
    " [ 6  1  8  1 10  1]\n",
    " [12  1 14  1 16  1]\n",
    " [18  1 20  1 22  1]\n",
    " [24  1 26  1 28  1]\n",
    " [30  1 32  1 34  1]]\n",
    "```\n"
   ]
  },
  {
   "cell_type": "code",
   "execution_count": null,
   "id": "327f0e18",
   "metadata": {
    "scrolled": true
   },
   "outputs": [],
   "source": [
    "# Given code\n",
    "A = np.arange(36).reshape((6, 6))\n",
    "\n",
    "# your code here\n"
   ]
  },
  {
   "cell_type": "markdown",
   "id": "d0cdc1bf",
   "metadata": {},
   "source": [
    "--------\n",
    "<span style=\"color:blue\">**Exercise C19.**</span>\n",
    "\n",
    "**Input**: a 6x6 array with integers in increasing order.\n",
    "\n",
    "```\n",
    "[[ 0  1  2  3  4  5]\n",
    " [ 6  7  8  9 10 11]\n",
    " [12 13 14 15 16 17]\n",
    " [18 19 20 21 22 23]\n",
    " [24 25 26 27 28 29]\n",
    " [30 31 32 33 34 35]]\n",
    "```\n",
    " \n",
    "**Output**: Set all the odd entries of the array to increasing integers starting from 100. The first odd number should become 100, the second should become 101, and so on with the final odd number becoming 117. Print the resulting array.\n",
    "\n",
    "```\n",
    "[[  0 100   2 101   4 102]\n",
    " [  6 103   8 104  10 105]\n",
    " [ 12 106  14 107  16 108]\n",
    " [ 18 109  20 110  22 111]\n",
    " [ 24 112  26 113  28 114]\n",
    " [ 30 115  32 116  34 117]]\n",
    "```\n"
   ]
  },
  {
   "cell_type": "code",
   "execution_count": null,
   "id": "e9ec2b96",
   "metadata": {
    "scrolled": true
   },
   "outputs": [],
   "source": [
    "# Given code\n",
    "A = np.arange(36).reshape((6, 6))\n",
    "\n",
    "# your code here\n"
   ]
  },
  {
   "cell_type": "markdown",
   "id": "18461e8e",
   "metadata": {},
   "source": [
    "--------\n",
    "<span style=\"color:blue\">**Exercise C20.**</span>\n",
    "\n",
    "**Input**: a 6x6 array with integers in increasing order.\n",
    "\n",
    "```\n",
    "[[ 0  1  2  3  4  5]\n",
    " [ 6  7  8  9 10 11]\n",
    " [12 13 14 15 16 17]\n",
    " [18 19 20 21 22 23]\n",
    " [24 25 26 27 28 29]\n",
    " [30 31 32 33 34 35]]\n",
    "```\n",
    " \n",
    "**Output**: Add 50 to all of the odd entries of the array. Print the resulting array.\n",
    "\n",
    "```\n",
    "[[ 0 51  2 53  4 55]\n",
    " [ 6 57  8 59 10 61]\n",
    " [12 63 14 65 16 67]\n",
    " [18 69 20 71 22 73]\n",
    " [24 75 26 77 28 79]\n",
    " [30 81 32 83 34 85]]\n",
    "```\n"
   ]
  },
  {
   "cell_type": "code",
   "execution_count": null,
   "id": "9203a1c1",
   "metadata": {
    "scrolled": true
   },
   "outputs": [],
   "source": [
    "# Given code\n",
    "A = np.arange(36).reshape((6, 6))\n",
    "\n",
    "# your code here\n"
   ]
  },
  {
   "cell_type": "markdown",
   "id": "1e01d9d3",
   "metadata": {},
   "source": [
    "## D. Operating on arrays\n",
    "\n",
    "*Broadcasting* refers to treating a value or a smaller array as a larger array. It is a convenient way to operate on arrays without writing `for` loops or explicitly constructing larger arrays.\n",
    "\n",
    "You might find the [NumPy reference for broadcasting](https://numpy.org/doc/stable/user/basics.broadcasting.html) helpful"
   ]
  },
  {
   "cell_type": "markdown",
   "id": "3079df25",
   "metadata": {},
   "source": [
    "### Goal: use broadcasting to set array elements."
   ]
  },
  {
   "cell_type": "markdown",
   "id": "861f562a",
   "metadata": {},
   "source": [
    "<span style=\"color:blue\">**Exercise D1.**</span>\n",
    "\n",
    "**Input**: a 3x8 array with integers in increasing order.\n",
    "\n",
    "```\n",
    "[[ 0  1  2  3  4  5  6  7]\n",
    " [ 8  9 10 11 12 13 14 15]\n",
    " [16 17 18 19 20 21 22 23]]\n",
    "```\n",
    " \n",
    "**Output**: Set all of the entries in the array to be one using a call to `np.ones()`. Print the array.\n",
    "\n",
    "```\n",
    "[[1. 1. 1. 1. 1. 1. 1. 1.]\n",
    " [1. 1. 1. 1. 1. 1. 1. 1.]\n",
    " [1. 1. 1. 1. 1. 1. 1. 1.]]\n",
    "```\n"
   ]
  },
  {
   "cell_type": "code",
   "execution_count": null,
   "id": "72385b3e",
   "metadata": {
    "scrolled": true
   },
   "outputs": [],
   "source": [
    "# Given code\n",
    "A = np.arange(24).reshape((3, 8))\n",
    "\n",
    "# your code here\n"
   ]
  },
  {
   "cell_type": "markdown",
   "id": "60584040",
   "metadata": {},
   "source": [
    "--------\n",
    "<span style=\"color:blue\">**Exercise D2.**</span>\n",
    "\n",
    "**Input**: a 3x8 array with integers in increasing order.\n",
    "\n",
    "```\n",
    "[[ 0  1  2  3  4  5  6  7]\n",
    " [ 8  9 10 11 12 13 14 15]\n",
    " [16 17 18 19 20 21 22 23]]\n",
    "```\n",
    " \n",
    "**Output**: Set all of the entries in the array to 1 using broadcasting. You will likely need to use two colon slices. Print the array.\n",
    "\n",
    "```\n",
    "[[1. 1. 1. 1. 1. 1. 1. 1.]\n",
    " [1. 1. 1. 1. 1. 1. 1. 1.]\n",
    " [1. 1. 1. 1. 1. 1. 1. 1.]]\n",
    "```\n"
   ]
  },
  {
   "cell_type": "code",
   "execution_count": null,
   "id": "bbbf58d8",
   "metadata": {
    "scrolled": true
   },
   "outputs": [],
   "source": [
    "# Given code\n",
    "A = np.arange(24).reshape((3, 8))\n",
    "\n",
    "# your code here\n"
   ]
  },
  {
   "cell_type": "markdown",
   "id": "d554a586",
   "metadata": {},
   "source": [
    "--------\n",
    "<span style=\"color:blue\">**Exercise D3.**</span>\n",
    "\n",
    "**Input**: a 3x8 array with integers in increasing order.\n",
    "\n",
    "```\n",
    "[[ 0  1  2  3  4  5  6  7]\n",
    " [ 8  9 10 11 12 13 14 15]\n",
    " [16 17 18 19 20 21 22 23]]\n",
    "```\n",
    " \n",
    "**Output**: Add 20 to all the elements of the array using broadcasting. Print the array.\n",
    "\n",
    "```\n",
    "[[20 21 22 23 24 25 26 27]\n",
    " [28 29 30 31 32 33 34 35]\n",
    " [36 37 38 39 40 41 42 43]]\n",
    "```\n"
   ]
  },
  {
   "cell_type": "code",
   "execution_count": null,
   "id": "e5643969",
   "metadata": {
    "scrolled": true
   },
   "outputs": [],
   "source": [
    "# Given code\n",
    "A = np.arange(24).reshape((3, 8))\n",
    "\n",
    "# your code here\n"
   ]
  },
  {
   "cell_type": "markdown",
   "id": "cdb8b55c",
   "metadata": {},
   "source": [
    "----\n",
    "### Goal: Operate on specific axes of an array.\n",
    "\n",
    "Some built-in NumPy functions have an `axis` argument that determines how the function is applied. For example, specifying a value for the `axis` argument lets the function operate only on rows or only on columns."
   ]
  },
  {
   "cell_type": "markdown",
   "id": "212fe6a3",
   "metadata": {},
   "source": [
    "<span style=\"color:blue\">**Exercise D4.**</span>\n",
    "\n",
    "**Input**: a 2x6 array with integers in increasing order.\n",
    "\n",
    "```\n",
    "[[ 0  1  2  3  4  5]\n",
    " [ 6  7  8  9 10 11]]\n",
    "```\n",
    " \n",
    "**Output**: Use the [`np.mean()` function](https://numpy.org/doc/stable/reference/generated/numpy.mean.html) to print the mean of all of the elements in the array.\n",
    "\n",
    "```\n",
    "5.5\n",
    "```\n"
   ]
  },
  {
   "cell_type": "code",
   "execution_count": null,
   "id": "68a1933c",
   "metadata": {
    "scrolled": true
   },
   "outputs": [],
   "source": [
    "# Given code\n",
    "A = np.arange(12).reshape((2, 6))\n",
    "\n",
    "# your code here\n"
   ]
  },
  {
   "cell_type": "markdown",
   "id": "8f419173",
   "metadata": {},
   "source": [
    "--------\n",
    "<span style=\"color:blue\">**Exercise D5.**</span>\n",
    "\n",
    "**Input**: a 2x6 array with integers in increasing order.\n",
    "\n",
    "```\n",
    "[[ 0  1  2  3  4  5]\n",
    " [ 6  7  8  9 10 11]]\n",
    "```\n",
    " \n",
    "**Output**: Use `np.mean()` to print the mean of each of the columns of the array.\n",
    "\n",
    "```\n",
    "[3. 4. 5. 6. 7. 8.]\n",
    "```\n"
   ]
  },
  {
   "cell_type": "code",
   "execution_count": null,
   "id": "e5476154",
   "metadata": {
    "scrolled": true
   },
   "outputs": [],
   "source": [
    "# Given code\n",
    "A = np.arange(12).reshape((2, 6))\n",
    "\n",
    "# your code here\n"
   ]
  },
  {
   "cell_type": "markdown",
   "id": "548e5f67",
   "metadata": {},
   "source": [
    "--------\n",
    "<span style=\"color:blue\">**Exercise D6.**</span>\n",
    "\n",
    "**Input**: a 2x6 array with integers in increasing order.\n",
    "\n",
    "```\n",
    "[[ 0  1  2  3  4  5]\n",
    " [ 6  7  8  9 10 11]]\n",
    "```\n",
    " \n",
    "**Output**: Use `np.mean()` to print the mean of each of the columns of the array.\n",
    "\n",
    "```\n",
    "[2.5 8.5]\n",
    "```\n"
   ]
  },
  {
   "cell_type": "code",
   "execution_count": null,
   "id": "5a67dd65",
   "metadata": {
    "scrolled": true
   },
   "outputs": [],
   "source": [
    "# Given code\n",
    "A = np.arange(12).reshape((2, 6))\n",
    "\n",
    "# your code here\n"
   ]
  },
  {
   "cell_type": "markdown",
   "id": "c939e751",
   "metadata": {},
   "source": [
    "--------\n",
    "<span style=\"color:blue\">**Exercise D7.**</span> Normalizing by a single value.\n",
    "\n",
    "**Input**: a 2x6 array with integers in increasing order.\n",
    "\n",
    "```\n",
    "[[ 0  1  2  3  4  5]\n",
    " [ 6  7  8  9 10 11]]\n",
    "```\n",
    " \n",
    "**Output**: Normalize each entry in the array by the overall mean of the array's elements. Each element will be divided by 5.5 in this example:\n",
    "\n",
    "```\n",
    "[[0.         0.18181818 0.36363636 0.54545455 0.72727273 0.90909091]\n",
    " [1.09090909 1.27272727 1.45454545 1.63636364 1.81818182 2.        ]]\n",
    "```\n"
   ]
  },
  {
   "cell_type": "code",
   "execution_count": null,
   "id": "9eee1bd2",
   "metadata": {
    "scrolled": false
   },
   "outputs": [],
   "source": [
    "# Given code\n",
    "A = np.arange(12).reshape((2, 6))\n",
    "\n",
    "# your code here\n"
   ]
  },
  {
   "cell_type": "markdown",
   "id": "876e5e0e",
   "metadata": {},
   "source": [
    "--------\n",
    "<span style=\"color:blue\">**Exercise D8.**</span> Normalizing by a different value for each column.\n",
    "\n",
    "**Input**: a 2x6 array with integers in increasing order.\n",
    "\n",
    "```\n",
    "[[ 0  1  2  3  4  5]\n",
    " [ 6  7  8  9 10 11]]\n",
    "```\n",
    " \n",
    "**Output**: Normalize each entry by the mean of that entry's column. For example, `0` will be divided by `3` (the mean of `0` and `6`).\n",
    "\n",
    "```\n",
    "[[0.         0.25       0.4        0.5        0.57142857 0.625     ]\n",
    " [2.         1.75       1.6        1.5        1.42857143 1.375     ]]\n",
    "```\n"
   ]
  },
  {
   "cell_type": "code",
   "execution_count": null,
   "id": "8af9a27f",
   "metadata": {
    "scrolled": true
   },
   "outputs": [],
   "source": [
    "# Given code\n",
    "A = np.arange(12).reshape((2, 6))\n",
    "\n",
    "# your code here\n"
   ]
  },
  {
   "cell_type": "markdown",
   "id": "ca8f004a",
   "metadata": {},
   "source": [
    "--------\n",
    "<span style=\"color:blue\">**Exercise D9.**</span> Turning a column into a percentage.\n",
    "\n",
    "**Input**: a 2x6 array with integers in increasing order.\n",
    "\n",
    "```\n",
    "[[ 0  1  2  3  4  5]\n",
    " [ 6  7  8  9 10 11]]\n",
    "```\n",
    " \n",
    "**Output**: Normalize each entry by the sum of that entry's column. For example, `1` will be divided by `8` (the sum of `1` and `7`).\n",
    "\n",
    "```\n",
    "[[0.         0.125      0.2        0.25       0.28571429 0.3125    ]\n",
    " [1.         0.875      0.8        0.75       0.71428571 0.6875    ]]\n",
    "```\n"
   ]
  },
  {
   "cell_type": "code",
   "execution_count": null,
   "id": "b96f7815",
   "metadata": {
    "scrolled": true
   },
   "outputs": [],
   "source": [
    "# Given code\n",
    "A = np.arange(12).reshape((2, 6))\n",
    "\n",
    "# your code here\n"
   ]
  },
  {
   "cell_type": "markdown",
   "id": "93469036",
   "metadata": {},
   "source": [
    "--------\n",
    "<span style=\"color:blue\">**Exercise D10.**</span> Turning a row into a percentage. This can be tricky because using the previous strategy will result in a broadcasting shape error.\n",
    "\n",
    "**Input**: a 2x6 array with integers in increasing order.\n",
    "\n",
    "```\n",
    "A = [[ 0  1  2  3  4  5]\n",
    "     [ 6  7  8  9 10 11]]\n",
    "```\n",
    " \n",
    "**Output**:\n",
    "\n",
    "Part a: Store the sum of the entries in each row in a new array. Print this array.\n",
    "\n",
    "```\n",
    "[15 51]\n",
    "```\n",
    "\n",
    "Part b: Use `np.newaxis` to add a new dimension to the array of row sums. The resulting array will have a 6x1 shape. Print this array.\n",
    "\n",
    "```\n",
    "[[15]\n",
    " [51]]\n",
    "```\n",
    "\n",
    "Part c: Normalize each entry in the original array `A` by the sum of that entry's row. For example, `0` will be divided by `15` (the sum of the first row).\n",
    "\n",
    "```\n",
    "[[0.         0.06666667 0.13333333 0.2        0.26666667 0.33333333]\n",
    " [0.11764706 0.1372549  0.15686275 0.17647059 0.19607843 0.21568627]]\n",
    "```\n"
   ]
  },
  {
   "cell_type": "code",
   "execution_count": null,
   "id": "61791a05",
   "metadata": {
    "scrolled": true
   },
   "outputs": [],
   "source": [
    "# Given code\n",
    "A = np.arange(12).reshape((2, 6))\n",
    "\n",
    "# part a. your code here\n",
    "\n",
    "\n",
    "# part b. your code here\n",
    "\n",
    "\n",
    "# part c. your code here\n"
   ]
  },
  {
   "cell_type": "markdown",
   "id": "0b935706",
   "metadata": {},
   "source": [
    "## E. Avoiding `for` loops\n",
    "\n",
    "NumPy offers many shorter (though often initially more confusing) ways of operating on arrays than explicitly writing `for` loops."
   ]
  },
  {
   "cell_type": "markdown",
   "id": "671235a3",
   "metadata": {},
   "source": [
    "<span style=\"color:blue\">**Exercise E1.**</span> Adding 2 arrays.\n",
    "\n",
    "**Input**: two 2x6 arrays of integers in increasing order.\n",
    "\n",
    "```\n",
    "A = [[ 0  1  2  3  4  5]\n",
    "     [ 6  7  8  9 10 11]]\n",
    "     \n",
    "B = [[ 100  101  102  103  104  105]\n",
    "     [ 106  107  108  109  110  111]]\n",
    "```\n",
    " \n",
    "**Output**: Rewrite the existing code that uses a for loop to add the two arrays to use only one-line of built-in NumPy arithmetic. Print the resulting array.\n",
    "\n",
    "```\n",
    "[[100 102 104 106 108 110]\n",
    " [112 114 116 118 120 122]]\n",
    "```\n"
   ]
  },
  {
   "cell_type": "code",
   "execution_count": null,
   "id": "8f01fa78",
   "metadata": {
    "scrolled": true
   },
   "outputs": [],
   "source": [
    "# Given code\n",
    "A = np.arange(12).reshape((2, 6))\n",
    "B = np.arange(100, 112).reshape((2, 6))\n",
    "\n",
    "# for loop version\n",
    "C = np.empty((2,6))\n",
    "for i in range(A.shape[0]):\n",
    "    for j in range(B.shape[1]):\n",
    "        C[i, j] = A[i, j] + B[i, j]\n",
    "\n",
    "# your code here\n"
   ]
  }
 ],
 "metadata": {
  "kernelspec": {
   "display_name": "Python 3 (ipykernel)",
   "language": "python",
   "name": "python3"
  },
  "language_info": {
   "codemirror_mode": {
    "name": "ipython",
    "version": 3
   },
   "file_extension": ".py",
   "mimetype": "text/x-python",
   "name": "python",
   "nbconvert_exporter": "python",
   "pygments_lexer": "ipython3",
   "version": "3.9.12"
  }
 },
 "nbformat": 4,
 "nbformat_minor": 5
}
